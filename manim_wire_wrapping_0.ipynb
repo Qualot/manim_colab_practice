{
  "nbformat": 4,
  "nbformat_minor": 0,
  "metadata": {
    "colab": {
      "provenance": [],
      "authorship_tag": "ABX9TyOHS5wkVw03++7Hwijr9JGh",
      "include_colab_link": true
    },
    "kernelspec": {
      "name": "python3",
      "display_name": "Python 3"
    },
    "language_info": {
      "name": "python"
    }
  },
  "cells": [
    {
      "cell_type": "markdown",
      "metadata": {
        "id": "view-in-github",
        "colab_type": "text"
      },
      "source": [
        "<a href=\"https://colab.research.google.com/github/Qualot/manim_colab_practice/blob/main/manim_wire_wrapping_0.ipynb\" target=\"_parent\"><img src=\"https://colab.research.google.com/assets/colab-badge.svg\" alt=\"Open In Colab\"/></a>"
      ]
    },
    {
      "cell_type": "code",
      "execution_count": null,
      "metadata": {
        "id": "KRT5E8ck-H_X"
      },
      "outputs": [],
      "source": [
        "!sudo apt update\n",
        "!sudo apt install libcairo2-dev ffmpeg \\\n",
        "    texlive texlive-latex-extra texlive-fonts-extra \\\n",
        "    texlive-latex-recommended texlive-science \\\n",
        "    tipa libpango1.0-dev\n",
        "!pip3 install typing-extensions<5.0.0,>=4.7.1\n",
        "!pip3 install manim\n",
        "!pip3 install manim-mobject-svg\n",
        "!pip3 install IPython --upgrade"
      ]
    },
    {
      "cell_type": "code",
      "source": [
        "from manim import *"
      ],
      "metadata": {
        "id": "BCVFo54g-ghz"
      },
      "execution_count": null,
      "outputs": []
    },
    {
      "cell_type": "code",
      "source": [
        "%%manim -qm -v WARNING GetLinesToPointExample\n",
        "class GetLinesToPointExample(Scene):\n",
        "    def construct(self):\n",
        "        ax = Axes()\n",
        "        circ = Circle(radius=0.5).move_to([-4, -1.5, 0])\n",
        "\n",
        "        lines_1 = ax.get_lines_to_point(circ.get_right(), color=GREEN_B)\n",
        "        lines_2 = ax.get_lines_to_point(circ.get_corner(DL), color=BLUE_B)\n",
        "        a = Square(color=BLUE)\n",
        "        b = Circle(color=RED)\n",
        "        c = VGroup(a, b)\n",
        "        c.to_svg(\"group.svg\")\n",
        "\n",
        "        self.add(ax, lines_1, lines_2, circ)"
      ],
      "metadata": {
        "id": "mkYv3IvG-zaM"
      },
      "execution_count": null,
      "outputs": []
    }
  ]
}